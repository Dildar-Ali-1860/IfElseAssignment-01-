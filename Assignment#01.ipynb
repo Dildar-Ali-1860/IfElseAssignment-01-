{
 "cells": [
  {
   "cell_type": "code",
   "execution_count": 1,
   "id": "70525bc0",
   "metadata": {},
   "outputs": [
    {
     "name": "stdout",
     "output_type": "stream",
     "text": [
      "Enter your salary : 50000\n",
      "enter your year of service: 8\n",
      "Your current salary is 50000\n",
      "\n",
      " Your new salary is 52500.0\n"
     ]
    }
   ],
   "source": [
    "#1) A company decided to give bonus of 5% to employee if his/her year of service is more than 5 years. Ask user for their salary and year of service and print the net bonus amount.\n",
    "salary = int(input(\"Enter your salary : \"))\n",
    "year = int(input(\"enter your year of service: \"))\n",
    "\n",
    "if year>5:\n",
    "    print(f'Your current salary is {salary}')\n",
    "    salary = salary+salary*0.05\n",
    "    print(f\"\\n Your new salary is {salary}\")\n",
    "\n",
    "else: \n",
    "    print(\"you are not eligible for bonus\")"
   ]
  },
  {
   "cell_type": "code",
   "execution_count": 2,
   "id": "c7de3b81",
   "metadata": {},
   "outputs": [
    {
     "name": "stdout",
     "output_type": "stream",
     "text": [
      "Enter age28\n",
      "you are eligible for vote\n"
     ]
    }
   ],
   "source": [
    "#2) Write a program to check whether a person is eligible for voting or not. (accept age from user)\n",
    "age=int(input(\"Enter age\"))\n",
    "\n",
    "if age>=18:\n",
    "    print('you are eligible for vote')\n",
    "else:\n",
    "    print(\"you too young for vote\")"
   ]
  },
  {
   "cell_type": "code",
   "execution_count": 3,
   "id": "6659f37e",
   "metadata": {},
   "outputs": [
    {
     "name": "stdout",
     "output_type": "stream",
     "text": [
      "enter a number22\n",
      "22 is even \n"
     ]
    }
   ],
   "source": [
    "#3) Write a program to check whether a number entered by user is even or odd.\n",
    "num= int(input(\"enter a number\"))\n",
    "\n",
    "if num%2==0:\n",
    "    print(f\"{num} is even \")\n",
    "else:\n",
    "     print(f\"{num} is odd \")"
   ]
  },
  {
   "cell_type": "code",
   "execution_count": 4,
   "id": "5d1d4a35",
   "metadata": {},
   "outputs": [
    {
     "name": "stdout",
     "output_type": "stream",
     "text": [
      "enter a number56\n",
      "56 is divisible by 7\n"
     ]
    }
   ],
   "source": [
    "#4) Write a program to check whether a number is divisible by 7 or not. Show Answer\n",
    "num= int(input(\"enter a number\"))\n",
    "\n",
    "if num%7==0:\n",
    "    print(f\"{num} is divisible by 7\")\n",
    "else:\n",
    "     print(f\"{num} is not divisible by 7\")"
   ]
  },
  {
   "cell_type": "code",
   "execution_count": 5,
   "id": "68bbdfa4",
   "metadata": {},
   "outputs": [
    {
     "name": "stdout",
     "output_type": "stream",
     "text": [
      "enter a number56\n",
      "Bye\n"
     ]
    }
   ],
   "source": [
    "#Q7. Write a program to display \"Hello\" if a number entered by user is a multiple of five , otherwise print \"Bye\".\n",
    "num= int(input(\"enter a number\"))\n",
    "\n",
    "if num%5==0:\n",
    "    print(\"Hello\")\n",
    "else:\n",
    "     print(\"Bye\")\n"
   ]
  },
  {
   "cell_type": "code",
   "execution_count": 6,
   "id": "1b483649",
   "metadata": {},
   "outputs": [
    {
     "name": "stdout",
     "output_type": "stream",
     "text": [
      "Enter units 350\n",
      "Your current bill is 2000\n"
     ]
    }
   ],
   "source": [
    "#Q8. Write a program to calculate the electricity bill (accept number of unit from user) according to the following criteria : Unit Price First 100 units no charge Next 100 units Rs 5 per unit After 200 units Rs 10 per unit (For example if input unit is 350 than total bill amount is Rs2000)\n",
    "unit=int(input('Enter units '))\n",
    "\n",
    "\n",
    "\n",
    "if unit<=100:\n",
    "    slab1= unit*0\n",
    "        \n",
    "elif unit>=100 and unit<=200:\n",
    "    slab1= 100*0\n",
    "    slab2= (unit-100) *5\n",
    "        \n",
    "elif  unit>200:\n",
    "    \n",
    "    slab1= 100*0\n",
    "    slab2= 100*5\n",
    "    slab3= (unit-200) *10\n",
    "else:\n",
    "    print(\"none\")\n",
    "\n",
    " \n",
    " \n",
    "total = slab1 + slab2 + slab3\n",
    "print(f\"Your current bill is {total}\")"
   ]
  },
  {
   "cell_type": "code",
   "execution_count": 8,
   "id": "2783cd24",
   "metadata": {},
   "outputs": [
    {
     "name": "stdout",
     "output_type": "stream",
     "text": [
      "Enter any number: 7898765549\n",
      "last digit is : 9\n"
     ]
    }
   ],
   "source": [
    "#Write a program to display the last digit of a number. (hint : any number % 10 will return the last digit)\n",
    "n=int(input(\"Enter any number: \"))\n",
    "l=n%10\n",
    "print(\"last digit is :\",l)"
   ]
  },
  {
   "cell_type": "code",
   "execution_count": 10,
   "id": "0d15b4f4",
   "metadata": {},
   "outputs": [
    {
     "name": "stdout",
     "output_type": "stream",
     "text": [
      "Enter any number: 890786\n",
      "6 is divible by 3\n"
     ]
    }
   ],
   "source": [
    "#Write a program to check whether the last digit of a number( entered by user ) is divisible by 3 or not.\n",
    "n=int(input(\"Enter any number: \"))\n",
    "l=n%10\n",
    "if l%3==0:\n",
    "    print(l,\"is divible by 3\")\n",
    "else:\n",
    "         print(l,\"is not divible by 3\")\n",
    "    \n"
   ]
  },
  {
   "cell_type": "code",
   "execution_count": 2,
   "id": "c6f25731",
   "metadata": {},
   "outputs": [
    {
     "name": "stdout",
     "output_type": "stream",
     "text": [
      "Enter value of length of rectangele: 4\n",
      "Enter value of length of rectangele: 4\n",
      "It is square\n"
     ]
    }
   ],
   "source": [
    "#Take values of length and breadth of a rectangle from user and check if it is square or not.\n",
    "l=int(input(\"Enter value of length of rectangele: \"))\n",
    "b=int(input(\"Enter value of length of rectangele: \"))\n",
    "if l==b:\n",
    "    print(\"It is square\")\n",
    "else:\n",
    "     print(\"It is not a square\")"
   ]
  },
  {
   "cell_type": "code",
   "execution_count": 3,
   "id": "fd274ac4",
   "metadata": {},
   "outputs": [
    {
     "name": "stdout",
     "output_type": "stream",
     "text": [
      "Enter 1st value : 87\n",
      "Enter 2nd value : 88\n",
      "88 is greater value\n"
     ]
    }
   ],
   "source": [
    "#Take two int values from user and print greatest among them.\n",
    "a = int(input(\"Enter 1st value : \"))\n",
    "b = int(input(\"Enter 2nd value : \"))\n",
    "\n",
    "if a > b :\n",
    "    print(f\"{a} is greater value\")\n",
    "\n",
    "else:\n",
    "        print(f\"{b} is greater value\")"
   ]
  },
  {
   "cell_type": "code",
   "execution_count": 4,
   "id": "3cb865b8",
   "metadata": {},
   "outputs": [
    {
     "name": "stdout",
     "output_type": "stream",
     "text": [
      "Enter Unit of quantities : 12\n",
      "discount = 120.0\n",
      "\n",
      " your total cost is 1200 and in 10% discount you'll pay 1080.0\n"
     ]
    }
   ],
   "source": [
    "# A shop will give discount of 10% if the cost of purchased quantity is more than 1000. Ask user for quantity Suppose, one unit will cost 100. Judge and print total cost for user.\n",
    "unit=int(input(\"Enter Unit of quantities : \"))\n",
    "cost = unit*100\n",
    "discount= cost*0.1\n",
    "print(f\"discount = {discount}\")\n",
    "new= cost-discount\n",
    "if cost>1000:\n",
    "       print(f\"\\n your total cost is {cost} and in 10% discount you'll pay {new}\")\n",
    "else:\n",
    "       print(\"Sorry,You haven't given any discount!!\")"
   ]
  },
  {
   "cell_type": "code",
   "execution_count": 8,
   "id": "1ee5a0e7",
   "metadata": {},
   "outputs": [
    {
     "name": "stdout",
     "output_type": "stream",
     "text": [
      "Enter your CS marks: 90\n",
      "Enter your MTH marks: 98\n",
      "Enter your PS marks: 99\n",
      "Enter your EE marks: 87\n",
      "Enter your AI marks: 88\n",
      "92.4\n",
      "A\n"
     ]
    }
   ],
   "source": [
    "#A school has following rules for grading system:\n",
    "\n",
    "# a. Below 25 - F\n",
    "\n",
    "# b. 25 to 45 - E\n",
    "\n",
    "# c. 45 to 50 - D\n",
    "\n",
    "# d. 50 to 60 - C\n",
    "\n",
    "# e. 60 to 80 - B\n",
    "\n",
    "# f. Above 80 - A\n",
    "\n",
    "# Ask user to enter marks and print the corresponding grade.\n",
    "sub1=int(input(\"Enter your CS marks: \"))\n",
    "sub2=int(input(\"Enter your MTH marks: \"))\n",
    "sub3=int(input(\"Enter your PS marks: \"))\n",
    "sub4=int(input(\"Enter your EE marks: \"))\n",
    "sub5=int(input(\"Enter your AI marks: \"))\n",
    "\n",
    "total=500\n",
    "obt=sub1+sub2+sub3+sub4+sub5\n",
    "percentage= (obt/total)*100\n",
    "grade= None\n",
    "\n",
    "if percentage>80:\n",
    "           grade=\"A\"\n",
    "if percentage>60 and percentage<=80:\n",
    "           grade=\"B\"\n",
    "if percentage>=50 and percentage<=60 :\n",
    "           grade=\"C\"\n",
    "if percentage>=45 and percentage<=50:\n",
    "           grade=\"D\"\n",
    "if percentage>=25 and percentage<=45:\n",
    "           grade=\"E\"\n",
    "if percentage<25:\n",
    "           grade=\"F\"\n",
    "        \n",
    "print(percentage)\n",
    "print(grade)"
   ]
  },
  {
   "cell_type": "code",
   "execution_count": 10,
   "id": "e16f25a6",
   "metadata": {},
   "outputs": [
    {
     "name": "stdout",
     "output_type": "stream",
     "text": [
      "Please enter age of 1st person: 34\n",
      "Please enter age of 2nd person: 43\n",
      "Please enter age of 3rd person: 23\n",
      "\n",
      "3rd person is youngest!\n",
      "2nd person is Oldest!\n"
     ]
    }
   ],
   "source": [
    "#Take input of age of 3 people by user and determine oldest and youngest among them.\n",
    "age1=int(input(\"Please enter age of 1st person: \"))\n",
    "age2=int(input(\"Please enter age of 2nd person: \"))\n",
    "age3=int(input(\"Please enter age of 3rd person: \"))\n",
    "\n",
    "if age1<age2 and age1<age3:\n",
    "     print(\"\\nFirst person is youngest!\")\n",
    "elif age2<age1 and age2<age3:\n",
    "     print(\"\\n2nd person is youngest!\")\n",
    "else:\n",
    "     print(\"\\n3rd person is youngest!\")\n",
    "\n",
    "if age1>age2 and age1>age3:\n",
    "     print(\"First person is Oldst!\")\n",
    "elif age2>age1 and age2>age3:\n",
    "     print(\"2nd person is Oldest!\")\n",
    "else:\n",
    "     print(\"3rd person is Oldest!\")"
   ]
  },
  {
   "cell_type": "code",
   "execution_count": 12,
   "id": "e1f0c745",
   "metadata": {},
   "outputs": [
    {
     "name": "stdout",
     "output_type": "stream",
     "text": [
      "Enter nmbr of total classes held: 7\n",
      "Enter nmbr of total classes attend: 3\n",
      "\n",
      " Not allowed!!!\n"
     ]
    }
   ],
   "source": [
    "#  A student will not be allowed to sit in exam if his/her attendence is less than 75%.\n",
    "\n",
    "# Take following input from user\n",
    "\n",
    "# Number of classes held\n",
    "\n",
    "# Number of classes attended.\n",
    "\n",
    "# And print\n",
    "\n",
    "# percentage of class attended\n",
    "\n",
    "# Is student is allowed to sit in exam or not.\n",
    "clas=int(input(\"Enter nmbr of total classes held: \"))\n",
    "atnd=int(input(\"Enter nmbr of total classes attend: \"))\n",
    "\n",
    "percentage= (atnd/clas) *100\n",
    "\n",
    "if percentage>=75:   \n",
    "    print(\"\\n Come and sit in Exam!!\")\n",
    "\n",
    "    print(\"\\n show medical report than Come and sit in Exam!!\")\n",
    "else:                    \n",
    "    print(\"\\n Not allowed!!!\")"
   ]
  },
  {
   "cell_type": "code",
   "execution_count": 13,
   "id": "f96f1946",
   "metadata": {},
   "outputs": [
    {
     "name": "stdout",
     "output_type": "stream",
     "text": [
      "Enter nmbr of total classes held: 7\n",
      "Enter nmbr of total classes attend: 3\n",
      "If you have medical issue??yes\n",
      "\n",
      " show medical report than Come and sit in Exam!!\n"
     ]
    }
   ],
   "source": [
    "#Modify the above question to allow student to sit if he/she has medical cause. Ask user if he/she has medical cause or not ( 'Y' or 'N' ) and print accordingly.\n",
    "clas=int(input(\"Enter nmbr of total classes held: \"))\n",
    "atnd=int(input(\"Enter nmbr of total classes attend: \"))\n",
    "med=input(\"If you have medical issue??\")\n",
    "percentage= (atnd/clas) *100\n",
    "\n",
    "if percentage>=75:   \n",
    "    print(\"\\n Come and sit in Exam!!\")\n",
    "elif percentage<75 and med==\"yes\": \n",
    "    print(\"\\n show medical report than Come and sit in Exam!!\")\n",
    "else:                    \n",
    "    print(\"\\n Not allowed!!!\")"
   ]
  },
  {
   "cell_type": "code",
   "execution_count": 15,
   "id": "c9770b71",
   "metadata": {},
   "outputs": [
    {
     "name": "stdout",
     "output_type": "stream",
     "text": [
      "Enter year : 2000\n",
      "2000 is a Century!\n"
     ]
    }
   ],
   "source": [
    "#Write a program to check if a year is leap year or not.If a year is divisible by 4 then it is leap year but if the year is century year like 2000, 1900, 2100 then it must be divisible by 400.\n",
    "year=int(input(\"Enter year : \"))\n",
    "\n",
    "\n",
    "if year%4==0 and year%100!=0:\n",
    "       print(f\"{year} is leap year!\")\n",
    "elif year%400==0 and year%100==0:\n",
    "       print(f\"{year} is a Century!\")\n",
    "else:\n",
    "       print(f\"{year} is neither leap year nor century! \")"
   ]
  },
  {
   "cell_type": "code",
   "execution_count": 17,
   "id": "a509f8d0",
   "metadata": {},
   "outputs": [
    {
     "name": "stdout",
     "output_type": "stream",
     "text": [
      "Please Enter your age : 30\n",
      "Please Enter your gender : male\n",
      "You will work in anywhere!\n"
     ]
    }
   ],
   "source": [
    "# Ask user to enter age, gender ( M or F ), marital status ( Y or N ) and then using following rules print their place of service.\n",
    "# if employee is female, then she will work only in urban areas.\n",
    "\n",
    "# if employee is a male and age is in between 20 to 40 then he may work in anywhere\n",
    "\n",
    "# if employee is male and age is in between 40 t0 60 then he will work in urban areas only.\n",
    "\n",
    "# And any other input of age should print \"ERROR\"\n",
    "\n",
    "age=int(input(\"Please Enter your age : \"))\n",
    "gender= input(\"Please Enter your gender : \")\n",
    "\n",
    "if gender==\"female\":\n",
    "           print(\"You will only work in urban areas!\")\n",
    "elif gender == \"male\" and age>=20 and age<=40:\n",
    "           print(\"You will work in anywhere!\")\n",
    "elif gender == \"male\" and age>=40 and age<=60:\n",
    "           print(\"You will only work in urban areas!\")\n",
    "\n",
    "else:\n",
    "     print(\"ERROR\")"
   ]
  },
  {
   "cell_type": "code",
   "execution_count": null,
   "id": "992a262b",
   "metadata": {},
   "outputs": [],
   "source": []
  }
 ],
 "metadata": {
  "kernelspec": {
   "display_name": "Python 3 (ipykernel)",
   "language": "python",
   "name": "python3"
  },
  "language_info": {
   "codemirror_mode": {
    "name": "ipython",
    "version": 3
   },
   "file_extension": ".py",
   "mimetype": "text/x-python",
   "name": "python",
   "nbconvert_exporter": "python",
   "pygments_lexer": "ipython3",
   "version": "3.9.12"
  }
 },
 "nbformat": 4,
 "nbformat_minor": 5
}
